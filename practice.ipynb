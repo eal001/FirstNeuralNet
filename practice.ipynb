{
 "cells": [
  {
   "cell_type": "markdown",
   "metadata": {},
   "source": [
    "## import dependencies"
   ]
  },
  {
   "cell_type": "code",
   "execution_count": 91,
   "metadata": {},
   "outputs": [
    {
     "name": "stdout",
     "output_type": "stream",
     "text": [
      "Requirement already satisfied: tensorflow in c:\\users\\ellio\\appdata\\local\\programs\\python\\python39\\lib\\site-packages (2.8.0)\n",
      "Requirement already satisfied: wrapt>=1.11.0 in c:\\users\\ellio\\appdata\\local\\programs\\python\\python39\\lib\\site-packages (from tensorflow) (1.14.0)\n",
      "Requirement already satisfied: grpcio<2.0,>=1.24.3 in c:\\users\\ellio\\appdata\\local\\programs\\python\\python39\\lib\\site-packages (from tensorflow) (1.44.0)\n",
      "Requirement already satisfied: termcolor>=1.1.0 in c:\\users\\ellio\\appdata\\local\\programs\\python\\python39\\lib\\site-packages (from tensorflow) (1.1.0)\n",
      "Requirement already satisfied: absl-py>=0.4.0 in c:\\users\\ellio\\appdata\\local\\programs\\python\\python39\\lib\\site-packages (from tensorflow) (1.0.0)\n",
      "Requirement already satisfied: gast>=0.2.1 in c:\\users\\ellio\\appdata\\local\\programs\\python\\python39\\lib\\site-packages (from tensorflow) (0.5.3)\n",
      "Requirement already satisfied: tf-estimator-nightly==2.8.0.dev2021122109 in c:\\users\\ellio\\appdata\\local\\programs\\python\\python39\\lib\\site-packages (from tensorflow) (2.8.0.dev2021122109)\n",
      "Requirement already satisfied: setuptools in c:\\users\\ellio\\appdata\\local\\programs\\python\\python39\\lib\\site-packages (from tensorflow) (58.1.0)\n",
      "Requirement already satisfied: google-pasta>=0.1.1 in c:\\users\\ellio\\appdata\\local\\programs\\python\\python39\\lib\\site-packages (from tensorflow) (0.2.0)\n",
      "Requirement already satisfied: keras-preprocessing>=1.1.1 in c:\\users\\ellio\\appdata\\local\\programs\\python\\python39\\lib\\site-packages (from tensorflow) (1.1.2)\n",
      "Requirement already satisfied: astunparse>=1.6.0 in c:\\users\\ellio\\appdata\\local\\programs\\python\\python39\\lib\\site-packages (from tensorflow) (1.6.3)\n",
      "Requirement already satisfied: tensorboard<2.9,>=2.8 in c:\\users\\ellio\\appdata\\local\\programs\\python\\python39\\lib\\site-packages (from tensorflow) (2.8.0)\n",
      "Requirement already satisfied: opt-einsum>=2.3.2 in c:\\users\\ellio\\appdata\\local\\programs\\python\\python39\\lib\\site-packages (from tensorflow) (3.3.0)\n",
      "Requirement already satisfied: tensorflow-io-gcs-filesystem>=0.23.1 in c:\\users\\ellio\\appdata\\local\\programs\\python\\python39\\lib\\site-packages (from tensorflow) (0.24.0)\n",
      "Requirement already satisfied: protobuf>=3.9.2 in c:\\users\\ellio\\appdata\\local\\programs\\python\\python39\\lib\\site-packages (from tensorflow) (3.19.4)\n",
      "Requirement already satisfied: six>=1.12.0 in c:\\users\\ellio\\appdata\\roaming\\python\\python39\\site-packages (from tensorflow) (1.16.0)\n",
      "Requirement already satisfied: keras<2.9,>=2.8.0rc0 in c:\\users\\ellio\\appdata\\local\\programs\\python\\python39\\lib\\site-packages (from tensorflow) (2.8.0)\n",
      "Requirement already satisfied: libclang>=9.0.1 in c:\\users\\ellio\\appdata\\local\\programs\\python\\python39\\lib\\site-packages (from tensorflow) (13.0.0)\n",
      "Requirement already satisfied: flatbuffers>=1.12 in c:\\users\\ellio\\appdata\\local\\programs\\python\\python39\\lib\\site-packages (from tensorflow) (2.0)\n",
      "Requirement already satisfied: numpy>=1.20 in c:\\users\\ellio\\appdata\\local\\programs\\python\\python39\\lib\\site-packages (from tensorflow) (1.22.3)\n",
      "Requirement already satisfied: typing-extensions>=3.6.6 in c:\\users\\ellio\\appdata\\local\\programs\\python\\python39\\lib\\site-packages (from tensorflow) (4.1.1)\n",
      "Requirement already satisfied: h5py>=2.9.0 in c:\\users\\ellio\\appdata\\local\\programs\\python\\python39\\lib\\site-packages (from tensorflow) (3.6.0)\n",
      "Requirement already satisfied: wheel<1.0,>=0.23.0 in c:\\users\\ellio\\appdata\\local\\programs\\python\\python39\\lib\\site-packages (from astunparse>=1.6.0->tensorflow) (0.37.1)\n",
      "Requirement already satisfied: requests<3,>=2.21.0 in c:\\users\\ellio\\appdata\\local\\programs\\python\\python39\\lib\\site-packages (from tensorboard<2.9,>=2.8->tensorflow) (2.27.1)\n",
      "Requirement already satisfied: tensorboard-plugin-wit>=1.6.0 in c:\\users\\ellio\\appdata\\local\\programs\\python\\python39\\lib\\site-packages (from tensorboard<2.9,>=2.8->tensorflow) (1.8.1)\n",
      "Requirement already satisfied: google-auth-oauthlib<0.5,>=0.4.1 in c:\\users\\ellio\\appdata\\local\\programs\\python\\python39\\lib\\site-packages (from tensorboard<2.9,>=2.8->tensorflow) (0.4.6)\n",
      "Requirement already satisfied: werkzeug>=0.11.15 in c:\\users\\ellio\\appdata\\local\\programs\\python\\python39\\lib\\site-packages (from tensorboard<2.9,>=2.8->tensorflow) (2.0.3)\n",
      "Requirement already satisfied: tensorboard-data-server<0.7.0,>=0.6.0 in c:\\users\\ellio\\appdata\\local\\programs\\python\\python39\\lib\\site-packages (from tensorboard<2.9,>=2.8->tensorflow) (0.6.1)\n",
      "Requirement already satisfied: markdown>=2.6.8 in c:\\users\\ellio\\appdata\\local\\programs\\python\\python39\\lib\\site-packages (from tensorboard<2.9,>=2.8->tensorflow) (3.3.6)\n",
      "Requirement already satisfied: google-auth<3,>=1.6.3 in c:\\users\\ellio\\appdata\\local\\programs\\python\\python39\\lib\\site-packages (from tensorboard<2.9,>=2.8->tensorflow) (2.6.2)\n",
      "Requirement already satisfied: pyasn1-modules>=0.2.1 in c:\\users\\ellio\\appdata\\local\\programs\\python\\python39\\lib\\site-packages (from google-auth<3,>=1.6.3->tensorboard<2.9,>=2.8->tensorflow) (0.2.8)\n",
      "Requirement already satisfied: rsa<5,>=3.1.4 in c:\\users\\ellio\\appdata\\local\\programs\\python\\python39\\lib\\site-packages (from google-auth<3,>=1.6.3->tensorboard<2.9,>=2.8->tensorflow) (4.8)\n",
      "Requirement already satisfied: cachetools<6.0,>=2.0.0 in c:\\users\\ellio\\appdata\\local\\programs\\python\\python39\\lib\\site-packages (from google-auth<3,>=1.6.3->tensorboard<2.9,>=2.8->tensorflow) (5.0.0)\n",
      "Requirement already satisfied: requests-oauthlib>=0.7.0 in c:\\users\\ellio\\appdata\\local\\programs\\python\\python39\\lib\\site-packages (from google-auth-oauthlib<0.5,>=0.4.1->tensorboard<2.9,>=2.8->tensorflow) (1.3.1)\n",
      "Requirement already satisfied: importlib-metadata>=4.4 in c:\\users\\ellio\\appdata\\local\\programs\\python\\python39\\lib\\site-packages (from markdown>=2.6.8->tensorboard<2.9,>=2.8->tensorflow) (4.11.3)\n",
      "Requirement already satisfied: urllib3<1.27,>=1.21.1 in c:\\users\\ellio\\appdata\\local\\programs\\python\\python39\\lib\\site-packages (from requests<3,>=2.21.0->tensorboard<2.9,>=2.8->tensorflow) (1.26.9)\n",
      "Requirement already satisfied: idna<4,>=2.5 in c:\\users\\ellio\\appdata\\local\\programs\\python\\python39\\lib\\site-packages (from requests<3,>=2.21.0->tensorboard<2.9,>=2.8->tensorflow) (3.3)\n",
      "Requirement already satisfied: certifi>=2017.4.17 in c:\\users\\ellio\\appdata\\local\\programs\\python\\python39\\lib\\site-packages (from requests<3,>=2.21.0->tensorboard<2.9,>=2.8->tensorflow) (2021.10.8)\n",
      "Requirement already satisfied: charset-normalizer~=2.0.0 in c:\\users\\ellio\\appdata\\local\\programs\\python\\python39\\lib\\site-packages (from requests<3,>=2.21.0->tensorboard<2.9,>=2.8->tensorflow) (2.0.12)\n",
      "Requirement already satisfied: zipp>=0.5 in c:\\users\\ellio\\appdata\\local\\programs\\python\\python39\\lib\\site-packages (from importlib-metadata>=4.4->markdown>=2.6.8->tensorboard<2.9,>=2.8->tensorflow) (3.7.0)\n",
      "Requirement already satisfied: pyasn1<0.5.0,>=0.4.6 in c:\\users\\ellio\\appdata\\local\\programs\\python\\python39\\lib\\site-packages (from pyasn1-modules>=0.2.1->google-auth<3,>=1.6.3->tensorboard<2.9,>=2.8->tensorflow) (0.4.8)\n",
      "Requirement already satisfied: oauthlib>=3.0.0 in c:\\users\\ellio\\appdata\\local\\programs\\python\\python39\\lib\\site-packages (from requests-oauthlib>=0.7.0->google-auth-oauthlib<0.5,>=0.4.1->tensorboard<2.9,>=2.8->tensorflow) (3.2.0)\n",
      "Note: you may need to restart the kernel to use updated packages.\n"
     ]
    }
   ],
   "source": [
    "%pip install tensorflow"
   ]
  },
  {
   "cell_type": "code",
   "execution_count": 92,
   "metadata": {},
   "outputs": [
    {
     "name": "stdout",
     "output_type": "stream",
     "text": [
      "Requirement already satisfied: pandas in c:\\users\\ellio\\appdata\\local\\programs\\python\\python39\\lib\\site-packages (1.4.1)\n",
      "Requirement already satisfied: pytz>=2020.1 in c:\\users\\ellio\\appdata\\local\\programs\\python\\python39\\lib\\site-packages (from pandas) (2022.1)\n",
      "Requirement already satisfied: python-dateutil>=2.8.1 in c:\\users\\ellio\\appdata\\roaming\\python\\python39\\site-packages (from pandas) (2.8.2)\n",
      "Requirement already satisfied: numpy>=1.18.5 in c:\\users\\ellio\\appdata\\local\\programs\\python\\python39\\lib\\site-packages (from pandas) (1.22.3)\n",
      "Requirement already satisfied: six>=1.5 in c:\\users\\ellio\\appdata\\roaming\\python\\python39\\site-packages (from python-dateutil>=2.8.1->pandas) (1.16.0)\n",
      "Note: you may need to restart the kernel to use updated packages.\n"
     ]
    }
   ],
   "source": [
    "%pip install pandas"
   ]
  },
  {
   "cell_type": "code",
   "execution_count": 93,
   "metadata": {},
   "outputs": [
    {
     "name": "stdout",
     "output_type": "stream",
     "text": [
      "Requirement already satisfied: numpy in c:\\users\\ellio\\appdata\\local\\programs\\python\\python39\\lib\\site-packages (1.22.3)\n",
      "Note: you may need to restart the kernel to use updated packages.\n"
     ]
    }
   ],
   "source": [
    "%pip install numpy"
   ]
  },
  {
   "cell_type": "code",
   "execution_count": 94,
   "metadata": {},
   "outputs": [
    {
     "name": "stdout",
     "output_type": "stream",
     "text": [
      "Requirement already satisfied: scipy in c:\\users\\ellio\\appdata\\local\\programs\\python\\python39\\lib\\site-packages (1.8.0)\n",
      "Requirement already satisfied: numpy<1.25.0,>=1.17.3 in c:\\users\\ellio\\appdata\\local\\programs\\python\\python39\\lib\\site-packages (from scipy) (1.22.3)\n",
      "Note: you may need to restart the kernel to use updated packages.\n"
     ]
    }
   ],
   "source": [
    "%pip install scipy"
   ]
  },
  {
   "cell_type": "code",
   "execution_count": 95,
   "metadata": {},
   "outputs": [
    {
     "name": "stdout",
     "output_type": "stream",
     "text": [
      "Requirement already satisfied: matplotlib in c:\\users\\ellio\\appdata\\local\\programs\\python\\python39\\lib\\site-packages (3.5.1)\n",
      "Requirement already satisfied: packaging>=20.0 in c:\\users\\ellio\\appdata\\local\\programs\\python\\python39\\lib\\site-packages (from matplotlib) (21.3)Note: you may need to restart the kernel to use updated packages.\n",
      "\n",
      "Requirement already satisfied: kiwisolver>=1.0.1 in c:\\users\\ellio\\appdata\\local\\programs\\python\\python39\\lib\\site-packages (from matplotlib) (1.4.0)\n",
      "Requirement already satisfied: python-dateutil>=2.7 in c:\\users\\ellio\\appdata\\roaming\\python\\python39\\site-packages (from matplotlib) (2.8.2)\n",
      "Requirement already satisfied: numpy>=1.17 in c:\\users\\ellio\\appdata\\local\\programs\\python\\python39\\lib\\site-packages (from matplotlib) (1.22.3)\n",
      "Requirement already satisfied: cycler>=0.10 in c:\\users\\ellio\\appdata\\local\\programs\\python\\python39\\lib\\site-packages (from matplotlib) (0.11.0)\n",
      "Requirement already satisfied: pyparsing>=2.2.1 in c:\\users\\ellio\\appdata\\local\\programs\\python\\python39\\lib\\site-packages (from matplotlib) (3.0.7)\n",
      "Requirement already satisfied: pillow>=6.2.0 in c:\\users\\ellio\\appdata\\local\\programs\\python\\python39\\lib\\site-packages (from matplotlib) (9.0.1)\n",
      "Requirement already satisfied: fonttools>=4.22.0 in c:\\users\\ellio\\appdata\\local\\programs\\python\\python39\\lib\\site-packages (from matplotlib) (4.31.2)\n",
      "Requirement already satisfied: six>=1.5 in c:\\users\\ellio\\appdata\\roaming\\python\\python39\\site-packages (from python-dateutil>=2.7->matplotlib) (1.16.0)\n"
     ]
    }
   ],
   "source": [
    "%pip install matplotlib"
   ]
  },
  {
   "cell_type": "code",
   "execution_count": 96,
   "metadata": {},
   "outputs": [],
   "source": [
    "import numpy as np\n",
    "import pandas as pd\n",
    "import tensorflow\n",
    "from scipy.special import expit # normalization sigmoid function to get numbers from 0-1\n",
    "import matplotlib.pyplot as plt\n"
   ]
  },
  {
   "cell_type": "markdown",
   "metadata": {},
   "source": [
    "## import dataset \n",
    "using mnist dataset becasue its easy and well documented"
   ]
  },
  {
   "cell_type": "code",
   "execution_count": 97,
   "metadata": {},
   "outputs": [],
   "source": [
    "from tensorflow.keras.datasets import mnist"
   ]
  },
  {
   "cell_type": "code",
   "execution_count": 98,
   "metadata": {},
   "outputs": [],
   "source": [
    "(train_set, train_label), (test_set, test_label) = mnist.load_data()"
   ]
  },
  {
   "cell_type": "code",
   "execution_count": 99,
   "metadata": {},
   "outputs": [
    {
     "data": {
      "text/plain": [
       "<matplotlib.image.AxesImage at 0x2cf078552b0>"
      ]
     },
     "execution_count": 99,
     "metadata": {},
     "output_type": "execute_result"
    },
    {
     "data": {
      "image/png": "[encoded data removed]",
      "text/plain": [
       "<Figure size 432x288 with 1 Axes>"
      ]
     },
     "metadata": {
      "needs_background": "light"
     },
     "output_type": "display_data"
    }
   ],
   "source": [
    "plt.imshow(train_set[0][:,:], cmap = plt.cm.binary)"
   ]
  },
  {
   "cell_type": "code",
   "execution_count": 100,
   "metadata": {},
   "outputs": [
    {
     "data": {
      "text/plain": [
       "(60000, 28, 28)"
      ]
     },
     "execution_count": 100,
     "metadata": {},
     "output_type": "execute_result"
    }
   ],
   "source": [
    "train_set.shape"
   ]
  },
  {
   "cell_type": "code",
   "execution_count": 101,
   "metadata": {},
   "outputs": [
    {
     "data": {
      "text/plain": [
       "(60000, 784)"
      ]
     },
     "execution_count": 101,
     "metadata": {},
     "output_type": "execute_result"
    }
   ],
   "source": [
    "train_set = train_set.reshape(60000,-1)/255\n",
    "train_set.shape"
   ]
  },
  {
   "cell_type": "code",
   "execution_count": 102,
   "metadata": {},
   "outputs": [
    {
     "data": {
      "text/plain": [
       "(10000, 784)"
      ]
     },
     "execution_count": 102,
     "metadata": {},
     "output_type": "execute_result"
    }
   ],
   "source": [
    "test_set = test_set.reshape(10000, -1)/255\n",
    "test_set.shape"
   ]
  },
  {
   "cell_type": "code",
   "execution_count": 103,
   "metadata": {},
   "outputs": [],
   "source": [
    "def imshow(arr):\n",
    "    plt.imshow( (arr.reshape(28,28) * 255)[:,:], cmap= plt.cm.binary)"
   ]
  },
  {
   "cell_type": "code",
   "execution_count": 104,
   "metadata": {},
   "outputs": [
    {
     "data": {
      "image/png": "[encoded data removed]",
      "text/plain": [
       "<Figure size 432x288 with 1 Axes>"
      ]
     },
     "metadata": {
      "needs_background": "light"
     },
     "output_type": "display_data"
    }
   ],
   "source": [
    "imshow(train_set[0])"
   ]
  },
  {
   "cell_type": "code",
   "execution_count": 105,
   "metadata": {},
   "outputs": [
    {
     "data": {
      "text/plain": [
       "5"
      ]
     },
     "execution_count": 105,
     "metadata": {},
     "output_type": "execute_result"
    }
   ],
   "source": [
    "train_label[0]"
   ]
  },
  {
   "cell_type": "markdown",
   "metadata": {},
   "source": [
    "## Create the network\n",
    "\n",
    "Generally:\n",
    "- We need a set of weight `W` matrices, that represent how much emphasis each previous layer has on the next layer\n",
    "- We need a set of bias `b` vectors, that represent how \"often\" a node/neuron is active\n",
    "- we need a function to run through and add all of these neuron activations to see the results of our network\n",
    "- We need an error function to check how good/ bad our results are, this will be used to determine how we will back propagate\n",
    "- We need to use this error function to tell us how much to change our weights and biases"
   ]
  },
  {
   "cell_type": "code",
   "execution_count": 106,
   "metadata": {},
   "outputs": [],
   "source": [
    "RAND_WEIGHT_INIT = 20"
   ]
  },
  {
   "cell_type": "markdown",
   "metadata": {},
   "source": [
    "### The Feed Forward Algorithm ###\n",
    "caclulate the output activations based on the previous activations, their weights affecting the current activations and the current node biases"
   ]
  },
  {
   "cell_type": "code",
   "execution_count": 107,
   "metadata": {},
   "outputs": [],
   "source": [
    "# calc outputs for one layer\n",
    "# @param previousActivations is the input to the next layer, this can either be the actual input data, or it can be the activations of a previous layer (size n)\n",
    "# @param weightMatrix is a matrix of the weights that determine the next node layer's activation, (size n by m)\n",
    "# @param nodeBiases are the biases applied to the activation layer we are trying to determine, (size n)\n",
    "# @return nodes are the activations of the next layer's nodes (size m)\n",
    "def prop_forward(previousActivations, weightMatrix, nodeBiases):\n",
    "    return expit( (previousActivations @ weightMatrix) + nodeBiases) \n",
    "    # each node is the sum of positive and negative weights times the respective input, \n",
    "    # expit is the sigmoid applied to the node activations so that they are values between 0-1"
   ]
  },
  {
   "cell_type": "markdown",
   "metadata": {},
   "source": [
    "use all of the weights and biases to determine each subsequent activation"
   ]
  },
  {
   "cell_type": "code",
   "execution_count": 108,
   "metadata": {},
   "outputs": [],
   "source": [
    "def feed_forward(inputs, weights, biases):\n",
    "    activations = []\n",
    "    activations.append(inputs)\n",
    "\n",
    "    for i, bias in enumerate(biases): # skips the output\n",
    "        activations.append( prop_forward(activations[-1], weights[i], bias) )\n",
    "    \n",
    "    return activations\n"
   ]
  },
  {
   "cell_type": "markdown",
   "metadata": {},
   "source": [
    "### The Back Propogation Algorithm ###\n",
    "using (math) we take the final activations and compare with the desired activations using SE. Then we use the sigmoid function and its derivative (bc chain rule) on our multivariable activations to determine a 'best' gradient descent toward an approximated local minimum. We do this by successively caclulating backwards our desired changes in the network."
   ]
  },
  {
   "cell_type": "code",
   "execution_count": 109,
   "metadata": {},
   "outputs": [],
   "source": [
    "# take outputs, weights and activations, and return the weights and biases adjustments for the whole network\n",
    "# @param currentActivations is all the neuron activations for each layer of the neural net\n",
    "#        Note: this will include the input and output layers, not just the hidden ones\n",
    "#        dims: L (layer amount) by N (Neuron amount at that layer)\n",
    "# @param currentWeights is all the weights at each layer of the neural net\n",
    "#        dims: L (layer amount) by N (neuron amount at that layer) by M (neuron amount at the next layer)\n",
    "# @param desiredOutputs are the correct outputs \n",
    "#        dims: N (amount of final neuron activations)\n",
    "# @return dW how much to change the most recent weights\n",
    "#        dims: L (layer amount) by N (neuron amount at that layer) by M (neuron amount at the next layer)\n",
    "# @return db how much to change the most recent biases\n",
    "#        Note: deltas are the change in biases for each node\n",
    "#        dims: L (layer amount) by N (neuron amount at that layer)\n",
    "def prop_backward(currentActivations, currentWeights, desiredOutputs):\n",
    "    layerAmt = len(currentActivations) # note that this includes the inputs and the outputs\n",
    "    # print(layerAmt)\n",
    "    # alpha = -0.1\n",
    "    dW = []\n",
    "    db = [] # db is both change in biases and delta\n",
    "    # base case, calc first delta\n",
    "    db.append((desiredOutputs - currentActivations[-1])*sigmoid_derivative(currentActivations[-1]))\n",
    "\n",
    "    # print( currentActivations[-2].reshape(-1,1).shape )\n",
    "    # print( db[-1].reshape(-1,1).T.shape )\n",
    "    # then calc first change\n",
    "    dW.append( currentActivations[-2].reshape(-1,1) @ db[-1].reshape(-1,1).T )\n",
    "\n",
    "    # for each subsequent layer, calc delta and then change\n",
    "    for i in reversed(range(layerAmt-2)):                    \n",
    "    # subtract 2 becuase we did the initial output layer, and we will not calculate weights that \n",
    "    # go into the input layer\\\n",
    "        i = i+1\n",
    "        # print(\"reverse iteration: \"+ str(i))\n",
    "        # print(db[0].shape)\n",
    "        # print(currentWeights[i].shape)\n",
    "        # print(currentActivations[i].shape)\n",
    "        # print(\"now\")\n",
    "        db.insert(0, calc_delta(db[0], currentWeights[i], currentActivations[i])   )\n",
    "        # in the math, its delta_l-1, but since we havent initialized all the deltas, \n",
    "        # it is db[0] in order to access the most recently added delta\n",
    "        # adding in the deltas in reverse order\n",
    "\n",
    "        # print(db[0].reshape(-1,1).shape)\n",
    "        # print(currentActivations[i-1].reshape(-1,1).T.shape)\n",
    "        # print(\"\\n\")\n",
    "        dW.insert(0,  currentActivations[i-1].reshape(-1,1) @ db[0].reshape(-1,1).T)\n",
    "        # note that db[0] no longer means the same thing because in the line above, we added a new delta\n",
    "        # this db[0] is the current delta, rather than the previous\n",
    "\n",
    "    # apply all changes to the weight \n",
    "    \n",
    "    return dW, db\n",
    "\n",
    "    # NOTES calculating the first one wrong 784 x 10, and then recalcing the right ones an iteration late \n",
    "\n",
    "\n",
    "def calc_delta(previousDelta, previousWeights, previousActivation):\n",
    "    return (previousWeights @ previousDelta) * sigmoid_derivative(previousActivation)\n",
    "    \n",
    "\n",
    "def sigmoid_derivative(x):\n",
    "    return expit(x)*(1 - expit(x))"
   ]
  },
  {
   "cell_type": "markdown",
   "metadata": {},
   "source": [
    "this function goes from a number (5) to an array to determine the desired final firings of neurons (0,0,0,0,0,1,0,0,0,0)"
   ]
  },
  {
   "cell_type": "code",
   "execution_count": 110,
   "metadata": {},
   "outputs": [],
   "source": [
    "def to_array(num):\n",
    "    arr = np.zeros(10)\n",
    "    arr[num] = 1\n",
    "    return arr"
   ]
  },
  {
   "cell_type": "markdown",
   "metadata": {},
   "source": [
    "initialization code, just initializes and returns random weights and biases, but no activcations on any of the layers."
   ]
  },
  {
   "cell_type": "code",
   "execution_count": 111,
   "metadata": {},
   "outputs": [],
   "source": [
    "# initialize random weights and biases for every node \n",
    "\n",
    "def init(layer_sizes):\n",
    "    layers = []\n",
    "    weights = []\n",
    "    biases = []\n",
    "    prev_size=0\n",
    "    for size in layer_sizes:\n",
    "        layers.append(np.zeros(size))\n",
    "        if(prev_size != 0): # remove the iteration, so that we dont append weights or biases corresponding to the input\n",
    "            weights.append(np.random.uniform(-1*RAND_WEIGHT_INIT,RAND_WEIGHT_INIT, size=(prev_size,size)))\n",
    "            biases.append(np.random.uniform(-1*RAND_WEIGHT_INIT,RAND_WEIGHT_INIT, size=(size)))\n",
    "\n",
    "        prev_size = size\n",
    "\n",
    "    return weights, biases, layers # these are ragged arrays and not ndarrray objects\n",
    "    \n"
   ]
  },
  {
   "cell_type": "markdown",
   "metadata": {},
   "source": [
    "### Baby Steps ###\n",
    "show the initial outputs of the random neural network, and the first iteration of training"
   ]
  },
  {
   "cell_type": "markdown",
   "metadata": {},
   "source": [
    "init layers, weights, biases"
   ]
  },
  {
   "cell_type": "code",
   "execution_count": 112,
   "metadata": {},
   "outputs": [],
   "source": [
    "# input size, smaller, smaller, category size\n",
    "LAYER_SIZES = [784, 200, 40, 10]\n",
    "\n",
    "weights, biases, layers = init(LAYER_SIZES)"
   ]
  },
  {
   "cell_type": "markdown",
   "metadata": {},
   "source": [
    "show initial activations"
   ]
  },
  {
   "cell_type": "code",
   "execution_count": 113,
   "metadata": {},
   "outputs": [],
   "source": [
    "activations = feed_forward(train_set[0], weights, biases)"
   ]
  },
  {
   "cell_type": "code",
   "execution_count": 114,
   "metadata": {},
   "outputs": [
    {
     "data": {
      "text/plain": [
       "array([6.66826503e-20, 2.60407599e-34, 1.00000000e+00, 6.47726712e-02,\n",
       "       1.00000000e+00, 1.00000000e+00, 3.57985896e-05, 9.99999991e-01,\n",
       "       3.63462352e-20, 4.34426072e-08])"
      ]
     },
     "execution_count": 114,
     "metadata": {},
     "output_type": "execute_result"
    }
   ],
   "source": [
    "# len(activations)\n",
    "# imshow(activations[0])\n",
    "activations[-1]"
   ]
  },
  {
   "cell_type": "markdown",
   "metadata": {},
   "source": [
    "determine change in weights and biases"
   ]
  },
  {
   "cell_type": "code",
   "execution_count": 115,
   "metadata": {},
   "outputs": [],
   "source": [
    "dW, db = prop_backward(activations, weights, to_array(train_label[0]))"
   ]
  },
  {
   "cell_type": "markdown",
   "metadata": {},
   "source": [
    "apply changes in weights and biases"
   ]
  },
  {
   "cell_type": "code",
   "execution_count": 116,
   "metadata": {},
   "outputs": [],
   "source": [
    "# update weights and biases\n",
    "for i, bias in enumerate(biases): \n",
    "    # print(str(db[i].shape) +  \" \"  + str(bias.shape))\n",
    "    biases[i] += db[i]\n",
    "\n",
    "for i, weight in enumerate(weights):\n",
    "    # print(str(dW[i].shape) +  \" \"  + str(weight.shape))\n",
    "    weights[i] += dW[i]\n",
    "\n"
   ]
  },
  {
   "cell_type": "markdown",
   "metadata": {},
   "source": [
    "find new activations"
   ]
  },
  {
   "cell_type": "code",
   "execution_count": 117,
   "metadata": {},
   "outputs": [],
   "source": [
    "activations = feed_forward(train_set[0], weights, biases)"
   ]
  },
  {
   "cell_type": "code",
   "execution_count": 118,
   "metadata": {},
   "outputs": [
    {
     "data": {
      "text/plain": [
       "array([7.51352073e-06, 7.24522500e-39, 3.19042034e-39, 9.99998634e-01,\n",
       "       1.00477632e-08, 1.00000000e+00, 1.41912193e-09, 1.72770342e-24,\n",
       "       7.94051390e-26, 9.18307352e-07])"
      ]
     },
     "execution_count": 118,
     "metadata": {},
     "output_type": "execute_result"
    }
   ],
   "source": [
    "activations[-1]"
   ]
  },
  {
   "cell_type": "markdown",
   "metadata": {},
   "source": [
    "## Lets do a Larger Trial! ##"
   ]
  },
  {
   "cell_type": "markdown",
   "metadata": {},
   "source": [
    "train model function by performing backpropagation with every piece of data from the train set"
   ]
  },
  {
   "cell_type": "code",
   "execution_count": 119,
   "metadata": {},
   "outputs": [],
   "source": [
    "def train(weights, biases, training_set, training_labels, max_iterations=1, alpha= 0.05):\n",
    "    sum_changes = []\n",
    "\n",
    "    for j in range(max_iterations):\n",
    "        sumW = 0\n",
    "        for i, image in enumerate(training_set):\n",
    "            activation = feed_forward(image, weights, biases)\n",
    "            dW, db = prop_backward(activation, weights, to_array(training_labels[i]))\n",
    "            for k, weight in enumerate(weights):\n",
    "                sumW += np.sum(dW[k])\n",
    "                weights[k] += alpha*dW[k]\n",
    "            for k, bias in enumerate(biases):\n",
    "                biases[k] += alpha*db[k]\n",
    "            \n",
    "        sum_changes.append(np.absolute(sumW))\n",
    "\n",
    "        # if(j%10 == 0):\n",
    "        #     print(j, end=\"\")\n",
    "        # else:  \n",
    "        #     print(\".\", end=\"\")\n",
    "        # if(j%100 == 0 and j!=0):\n",
    "        #     print()\n",
    "        \n",
    "        if(np.absolute(sumW) < 10):\n",
    "            break\n",
    "\n",
    "    return weights, biases, sum_changes"
   ]
  },
  {
   "cell_type": "markdown",
   "metadata": {},
   "source": [
    "testing function by checking the activation on labels and comparing it to the desired labels"
   ]
  },
  {
   "cell_type": "code",
   "execution_count": 120,
   "metadata": {},
   "outputs": [],
   "source": [
    "def test(testing_set, weights, biases, testing_labels, output_size=10):\n",
    "    image_accuracy_sum = 0\n",
    "    for i, image in enumerate(testing_set):\n",
    "        # print(type(image))\n",
    "        output = feed_forward(image, weights, biases)[-1]\n",
    "        image_accuracy_sum += 0 if np.argmax(output) == testing_labels[i] else 1\n",
    "        # print(image_accuracy_sum)\n",
    "    \n",
    "    return 1 - ( image_accuracy_sum / len(testing_set) )\n"
   ]
  },
  {
   "cell_type": "markdown",
   "metadata": {},
   "source": [
    "initialize training values, labels, weights, biases"
   ]
  },
  {
   "cell_type": "code",
   "execution_count": 121,
   "metadata": {},
   "outputs": [],
   "source": [
    "weights, biases, layers = init(LAYER_SIZES)\n"
   ]
  },
  {
   "cell_type": "code",
   "execution_count": 122,
   "metadata": {},
   "outputs": [],
   "source": [
    "weights, biases, sum_changes = train(weights, biases, train_set[:60000], train_label[:60000])"
   ]
  },
  {
   "cell_type": "code",
   "execution_count": null,
   "metadata": {},
   "outputs": [],
   "source": [
    "# plt.plot(np.arange(len(sum_changes)), sum_changes, \"-o\")"
   ]
  },
  {
   "cell_type": "markdown",
   "metadata": {},
   "source": [
    "How well do we do?"
   ]
  },
  {
   "cell_type": "code",
   "execution_count": null,
   "metadata": {},
   "outputs": [
    {
     "data": {
      "image/png": "[encoded data removed]",
      "text/plain": [
       "<Figure size 432x288 with 1 Axes>"
      ]
     },
     "metadata": {
      "needs_background": "light"
     },
     "output_type": "display_data"
    }
   ],
   "source": [
    "index = 1118\n",
    "\n",
    "imshow(test_set[index])"
   ]
  },
  {
   "cell_type": "code",
   "execution_count": null,
   "metadata": {},
   "outputs": [
    {
     "name": "stdout",
     "output_type": "stream",
     "text": [
      "output 8\n",
      "expected 8\n"
     ]
    },
    {
     "data": {
      "text/plain": [
       "array([1.70173136e-35, 1.19761953e-03, 1.26612249e-11, 7.55811142e-08,\n",
       "       1.63273301e-15, 8.02964890e-19, 7.12355650e-10, 4.69565825e-29,\n",
       "       8.22547278e-03, 5.85471929e-24])"
      ]
     },
     "execution_count": 89,
     "metadata": {},
     "output_type": "execute_result"
    }
   ],
   "source": [
    "activations = feed_forward(test_set[index], weights, biases)[-1]\n",
    "print(\"output \" + str(np.argmax(activations)))\n",
    "print(\"expected \" + str(test_label[index]))\n",
    "activations\n"
   ]
  },
  {
   "cell_type": "code",
   "execution_count": null,
   "metadata": {},
   "outputs": [
    {
     "data": {
      "text/plain": [
       "0.7743"
      ]
     },
     "execution_count": 47,
     "metadata": {},
     "output_type": "execute_result"
    }
   ],
   "source": [
    "test(test_set, weights, biases, test_label)"
   ]
  },
  {
   "cell_type": "code",
   "execution_count": null,
   "metadata": {},
   "outputs": [],
   "source": []
  }
 ],
 "metadata": {
  "interpreter": {
   "hash": "23af1cdfe5d07e2d6e573c2962f6e15d0057449a1161cf4ef4967031ff3ab0d1"
  },
  "kernelspec": {
   "display_name": "Python 3.6.5rc1 64-bit",
   "language": "python",
   "name": "python3"
  },
  "language_info": {
   "codemirror_mode": {
    "name": "ipython",
    "version": 3
   },
   "file_extension": ".py",
   "mimetype": "text/x-python",
   "name": "python",
   "nbconvert_exporter": "python",
   "pygments_lexer": "ipython3",
   "version": "3.9.12"
  },
  "orig_nbformat": 4
 },
 "nbformat": 4,
 "nbformat_minor": 2
}
